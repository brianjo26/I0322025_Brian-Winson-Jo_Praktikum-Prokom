{
 "cells": [
  {
   "cell_type": "code",
   "execution_count": 4,
   "metadata": {},
   "outputs": [
    {
     "name": "stdout",
     "output_type": "stream",
     "text": [
      "Matriks dari nilai yang anda masukan adalah = \n",
      "6 4 \n",
      "3 2 \n"
     ]
    },
    {
     "data": {
      "text/plain": [
       "[[6, 4], [3, 2]]"
      ]
     },
     "execution_count": 4,
     "metadata": {},
     "output_type": "execute_result"
    }
   ],
   "source": [
    "#Buatlah sebuah fungsi untuk membuat matrix berdasarkan input dari user\n",
    "\n",
    "def create_matrix(baris,kolom):\n",
    "    matrix = []\n",
    "\n",
    "    #Tulis kode kamu disini\n",
    "    for i in range(baris):\n",
    "        matrix.append([])\n",
    "        for j in range(kolom):\n",
    "            nilai = int(input(f'Masukan nilai matriks [{i}][{j}] = '))\n",
    "            matrix[i].append(nilai)\n",
    "    print(\"Matriks dari nilai yang anda masukan adalah = \")\n",
    "    for i in range(baris):\n",
    "        for j in range(kolom):\n",
    "            print(matrix[i][j], end=' ')\n",
    "        print()\n",
    "    return matrix\n",
    "\n",
    "\n",
    "baris = int(input('Masukkan Jumlah Baris:\\t'))\n",
    "kolom = int(input('Masukkan Jumlah Kolom:\\t'))\n",
    "\n",
    "create_matrix(baris,kolom)"
   ]
  },
  {
   "cell_type": "code",
   "execution_count": 10,
   "metadata": {},
   "outputs": [
    {
     "name": "stdout",
     "output_type": "stream",
     "text": [
      "\n",
      "Nilai dari Matriks A :\n",
      "1 3 \n",
      "4 6 \n",
      "\n",
      "Nilai dari Matriks B :\n",
      "2 8 \n",
      "1 9 \n",
      "\n",
      "Hasil Penjumlahan Matriks\n",
      "3 11 \n",
      "5 15 \n"
     ]
    },
    {
     "data": {
      "text/plain": [
       "[[3, 11], [5, 15]]"
      ]
     },
     "execution_count": 10,
     "metadata": {},
     "output_type": "execute_result"
    }
   ],
   "source": [
    "#Buatlah sebuah fungsi untuk menambah dua matrix berdasarkan input user\n",
    "\n",
    "def tambah_matrix(matrix1,matrix2):\n",
    "    tambah = []\n",
    "\n",
    "    #Tulis kode kamu disini\n",
    "    for x in range(len(matrix1)):\n",
    "        tambah.append([])\n",
    "        for y in range(len(matrix1[0])):\n",
    "            penjumlahan = matrix1[x][y] + matrix2[x][y]\n",
    "            tambah[x].append(penjumlahan)\n",
    "    print(\"\\nHasil Penjumlahan Matriks\")\n",
    "    for x in range(len(tambah)):\n",
    "        for y in range(len(tambah[0])):\n",
    "            print(tambah[x][y], end=' ')\n",
    "        print()\n",
    "    return tambah\n",
    "\n",
    "baris = int(input('Masukkan Jumlah Baris:\\t'))\n",
    "kolom = int(input('Masukkan Jumlah Kolom:\\t'))\n",
    "\n",
    "matrixA = []\n",
    "for i in range(baris):\n",
    "    matrixA.append([])\n",
    "    for j in range(kolom):\n",
    "        nilai = int(input(f'Masukan nilai matriks A[{i}][{j}] = '))\n",
    "        matrixA[i].append(nilai)\n",
    "print(\"\\nNilai dari Matriks A :\")\n",
    "for i in range(len(matrixA)):\n",
    "    for j in range(len(matrixA[0])):\n",
    "        print(matrixA[i][j], end=' ')\n",
    "    print()\n",
    "\n",
    "\n",
    "matrixB = []\n",
    "for i in range(baris):\n",
    "    matrixB.append([])\n",
    "    for j in range(kolom):\n",
    "        nilai = int(input(f'Masukan nilai matriks B[{i}][{j}] = '))\n",
    "        matrixB[i].append(nilai)\n",
    "print(\"\\nNilai dari Matriks B :\")\n",
    "for i in range(len(matrixB)):\n",
    "    for j in range(len(matrixB[0])):\n",
    "        print(matrixB[i][j], end=' ')\n",
    "    print()\n",
    "\n",
    "tambah_matrix(matrixA, matrixB)"
   ]
  },
  {
   "cell_type": "code",
   "execution_count": 12,
   "metadata": {},
   "outputs": [
    {
     "name": "stdout",
     "output_type": "stream",
     "text": [
      "\n",
      "Nilai dari Matriks 1 :\n",
      "7 9 \n",
      "1 3 \n",
      "\n",
      "Nilai dari Matriks 2 :\n",
      "4 6 \n",
      "8 2 \n",
      "\n",
      "Hasil Perkalian dari Matrix A dan Matrix B adalah = \n",
      "100 60 \n",
      "28 12 \n"
     ]
    },
    {
     "data": {
      "text/plain": [
       "[[100, 60], [28, 12]]"
      ]
     },
     "execution_count": 12,
     "metadata": {},
     "output_type": "execute_result"
    }
   ],
   "source": [
    "#Buatlah fungsi untuk mengakalikan dua buah matrix berdasarkan input user\n",
    "\n",
    "def multiply_matrix(matrix1, matrix2):\n",
    "    result=[]\n",
    "\n",
    "    #Tulis kode kamu disini\n",
    "    for x in range(0,len(matrix1)):\n",
    "        row = []\n",
    "        for y in range(0,len(matrix1[0])):\n",
    "            jumlah = 0\n",
    "            for z in range(0,len(matrix1)):\n",
    "                jumlah = jumlah + (matrix1[x][z] * matrix2[z][y])\n",
    "            row.append(jumlah)\n",
    "        result.append(row)\n",
    "    print(\"\\nHasil Perkalian dari Matrix A dan Matrix B adalah = \")\n",
    "    for i in range(len(result)):\n",
    "        for j in range(len(result[0])):\n",
    "            print(result[i][j], end=' ')\n",
    "        print()\n",
    "    return result\n",
    "\n",
    "baris = int(input('Masukkan Jumlah Baris:\\t'))\n",
    "kolom = int(input('Masukkan Jumlah Kolom:\\t'))\n",
    "\n",
    "\n",
    "matrix1 = []\n",
    "for i in range(baris):\n",
    "    matrix1.append([])\n",
    "    for j in range(kolom):\n",
    "        nilai = int(input(f'Masukan nilai matriks 1[{i}][{j}] = '))\n",
    "        matrix1[i].append(nilai)\n",
    "print(\"\\nNilai dari Matriks 1 :\")\n",
    "for i in range(len(matrix1)):\n",
    "    for j in range(len(matrix1[0])):\n",
    "        print(matrix1[i][j], end=' ')\n",
    "    print()\n",
    "\n",
    "\n",
    "matrix2 = []\n",
    "for i in range(baris):\n",
    "    matrix2.append([])\n",
    "    for j in range(kolom):\n",
    "        nilai = int(input(f'Masukan nilai matriks 2[{i}][{j}] = '))\n",
    "        matrix2[i].append(nilai)\n",
    "print(\"\\nNilai dari Matriks 2 :\")\n",
    "for i in range(len(matrix2)):\n",
    "    for j in range(len(matrix2[0])):\n",
    "        print(matrix2[i][j], end=' ')\n",
    "    print()\n",
    "\n",
    "multiply_matrix(matrix1, matrix2)"
   ]
  }
 ],
 "metadata": {
  "kernelspec": {
   "display_name": "Python 3",
   "language": "python",
   "name": "python3"
  },
  "language_info": {
   "codemirror_mode": {
    "name": "ipython",
    "version": 3
   },
   "file_extension": ".py",
   "mimetype": "text/x-python",
   "name": "python",
   "nbconvert_exporter": "python",
   "pygments_lexer": "ipython3",
   "version": "3.11.2"
  },
  "orig_nbformat": 4
 },
 "nbformat": 4,
 "nbformat_minor": 2
}
