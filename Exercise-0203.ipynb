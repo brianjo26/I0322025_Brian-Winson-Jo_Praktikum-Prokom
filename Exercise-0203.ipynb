{
 "cells": [
  {
   "cell_type": "code",
   "execution_count": 2,
   "metadata": {},
   "outputs": [
    {
     "name": "stdout",
     "output_type": "stream",
     "text": [
      "Brian Winson Jo\n",
      "I0322025\n",
      "A\n"
     ]
    }
   ],
   "source": [
    "print(input(\"Nama: \"))\n",
    "print(input(\"NIM: \"))\n",
    "print(input(\"Kelas: \"))"
   ]
  },
  {
   "attachments": {},
   "cell_type": "markdown",
   "metadata": {},
   "source": [
    "## 1."
   ]
  },
  {
   "attachments": {},
   "cell_type": "markdown",
   "metadata": {},
   "source": [
    "buatlah program sederhana untuk menghitung umur pengguna dengan ketentuan sebagai berikut :\n",
    "* Program meminta pengguna memasukan tanggal, bulan, dan tahun lahir\n",
    "* Program menghitung umur pengguna hingga tanggal 1 januari 2023\n",
    "* Program menampilkan umur dari pengguna"
   ]
  },
  {
   "cell_type": "code",
   "execution_count": 15,
   "metadata": {},
   "outputs": [
    {
     "name": "stdout",
     "output_type": "stream",
     "text": [
      "Tanggal lahir anda =  30 Febuari 2000\n",
      "Umur anda adalah 22 tahun\n"
     ]
    }
   ],
   "source": [
    "tanggal = int(input(\"Masukan tanggal lahir : \"))\n",
    "bulan = int(input(\"Masukan bulan lahir : \"))\n",
    "tahun = int(input(\"Masukan tahun lahir : \"))\n",
    "\n",
    "if tanggal == 1:\n",
    "    if bulan == 1:\n",
    "        umur = 2023 - tahun\n",
    "else: umur = 2023 - tahun - 1\n",
    "\n",
    "if bulan == 1:\n",
    "    bulan = (\"Januari\")\n",
    "if bulan == 2:\n",
    "    bulan = (\"Febuari\")\n",
    "if bulan == 3:\n",
    "    bulan = (\"Maret\")\n",
    "if bulan == 4:\n",
    "    bulan = (\"April\")\n",
    "if bulan == 5:\n",
    "    bulan = (\"Mei\")\n",
    "if bulan == 6:\n",
    "    bulan = (\"Juni\")\n",
    "if bulan == 7:\n",
    "    bulan = (\"Juli\")\n",
    "if bulan == 8:\n",
    "    bulan = (\"Agustus\")\n",
    "if bulan == 9:\n",
    "    bulan = (\"September\")\n",
    "if bulan == 10:\n",
    "    bulan = (\"Oktober\")\n",
    "if bulan == 11:\n",
    "    bulan = (\"November\")\n",
    "if bulan == 12:\n",
    "    bulan = (\"Desember\")\n",
    "\n",
    "\n",
    "print(\"Tanggal lahir anda = \", tanggal, bulan, tahun)\n",
    "print(\"Umur anda adalah\", umur, \"tahun\")"
   ]
  },
  {
   "attachments": {},
   "cell_type": "markdown",
   "metadata": {},
   "source": [
    "## 2."
   ]
  },
  {
   "attachments": {},
   "cell_type": "markdown",
   "metadata": {},
   "source": [
    "Pada 2015, wabah flu burung menyerang Indonesia dan beberapa peternak ayam mengalami kerugian karena banyaknya ayam yang mati. Setiap bulan, jumlah ayamnya berkurang menjadi setengah. Setelah dua bulan, jumlah ayam yang tersisa adalah 200 ekor. Hitunglah jumlah ayam sebelumnya yang dimiliki peternak tersebut! (gunakan rumus deret geometri)\n",
    "\n",
    "> *note: SOAL DIATAS DIKERJAKAN SESUAI DENGAN RUMUS BAKU*"
   ]
  },
  {
   "cell_type": "code",
   "execution_count": 17,
   "metadata": {},
   "outputs": [
    {
     "name": "stdout",
     "output_type": "stream",
     "text": [
      "Jumlah ayam sebelumnya yang dimiliki sebanyak 800.0\n"
     ]
    }
   ],
   "source": [
    "r = 1/2\n",
    "n = 2\n",
    "sn = 200\n",
    "\n",
    "a = sn/(r**(n))\n",
    "\n",
    "print(f\"Jumlah ayam sebelumnya yang dimiliki sebanyak {a}\")"
   ]
  },
  {
   "attachments": {},
   "cell_type": "markdown",
   "metadata": {},
   "source": [
    "## 3. "
   ]
  },
  {
   "attachments": {},
   "cell_type": "markdown",
   "metadata": {},
   "source": [
    "* **A** Hitunglah luas Prisma Segitiga dengan ketentuan sebagai berikut:\n",
    "    * Alas dan tutup prisma merupakan segitiga\n",
    "    * Terdapat 3 persegi panjang yang menyinggung alas dan tutup prisma\n",
    "    * Sisi persegi panjang yang menyinggung segitiga adalah sisi lebar\n",
    "```python\n",
    "    dictionary_figure = {\"Persegi\":{\"Sisi\":22},\n",
    "                        \"Persegi Panjang\":{\"Panjang\":10,\"Lebar\":5},\n",
    "                        \"Segitiga Sama Sisi\":{\"Sisi\":6,\"Tinggi\":3**(1/2) * 3},\n",
    "                        \"Lingkaran\":{\"Diameter\":7}}\n",
    "```\n",
    "* **B** Hitunglah luas Tabung dengan ketentuan sebagai berikut:\n",
    "    * Alas dan tutup tabung merupakan lingkaran\n",
    "    * Terdapat 1 persegi yang menyinggung alas dan tutup tabung\n",
    "    * Persegi yang ada mengelilingi lingkaran hingga sisi dari persegi saling bertemu\n",
    "\n",
    "> *note: Pada soal ini kalian hanya boleh menggunakan key-value pair dan index pada list. Tidak diperbolehkan menulis secara langsung dimensi dari figure*"
   ]
  },
  {
   "cell_type": "code",
   "execution_count": 25,
   "metadata": {},
   "outputs": [
    {
     "name": "stdout",
     "output_type": "stream",
     "text": [
      "Luas permukaan dari prisma segitiga adalah 181.1769145362398\n",
      "Luas Permukaan dari tabung adalah 561.0\n"
     ]
    }
   ],
   "source": [
    "dictionary_figure = {\"Persegi\":{\"Sisi\":22},\n",
    "                        \"Persegi Panjang\":{\"Panjang\":10,\"Lebar\":5},\n",
    "                        \"Segitiga Sama Sisi\":{\"Sisi\":6,\"Tinggi\":3**(1/2) * 3},\n",
    "                        \"Lingkaran\":{\"Diameter\":7}}\n",
    "pi = 22/7\n",
    "ssegitiga = (dictionary_figure[\"Segitiga Sama Sisi\"][\"Sisi\"])\n",
    "tsegitiga = (dictionary_figure[\"Segitiga Sama Sisi\"][\"Tinggi\"])\n",
    "p = (dictionary_figure[\"Persegi Panjang\"][\"Panjang\"])\n",
    "l = (dictionary_figure[\"Persegi Panjang\"][\"Lebar\"])\n",
    "d = ((dictionary_figure[\"Lingkaran\"][\"Diameter\"]))\n",
    "s = (dictionary_figure[\"Persegi\"][\"Sisi\"])\n",
    "\n",
    "luasprisma = 1/2 * 2 * ssegitiga * tsegitiga + 3 * p * l\n",
    "print('Luas permukaan dari prisma segitiga adalah', luasprisma)\n",
    "\n",
    "\n",
    "luastabung = 2 * pi * (d * 1/2)**2  + s**2\n",
    "print('Luas Permukaan dari tabung adalah', luastabung)"
   ]
  }
 ],
 "metadata": {
  "kernelspec": {
   "display_name": "Python 3",
   "language": "python",
   "name": "python3"
  },
  "language_info": {
   "codemirror_mode": {
    "name": "ipython",
    "version": 3
   },
   "file_extension": ".py",
   "mimetype": "text/x-python",
   "name": "python",
   "nbconvert_exporter": "python",
   "pygments_lexer": "ipython3",
   "version": "3.11.2"
  },
  "orig_nbformat": 4,
  "vscode": {
   "interpreter": {
    "hash": "5addf786bcd861d1ce5006f23111f8cbb206731e5b61b0a5632ba9e0252558a8"
   }
  }
 },
 "nbformat": 4,
 "nbformat_minor": 2
}
