{
 "cells": [
  {
   "attachments": {},
   "cell_type": "markdown",
   "metadata": {},
   "source": [
    "1. Buatlah program untuk menampilkan total penjumlahan bilangan ganjil dan total penjumlahan bilangan genap dengan input dari user berupa range (batas atas dan batas bawah)!"
   ]
  },
  {
   "cell_type": "code",
   "execution_count": 12,
   "metadata": {},
   "outputs": [
    {
     "name": "stdout",
     "output_type": "stream",
     "text": [
      "Hasil dari total penjumlahan bilangan ganjil dengan batas bawah 1 dan batas atas 10 adalah 25\n",
      "Hasil dari total penjumlahan bilangan genap dengan batas bawah 1 dan batas atas 10 adalah 30\n"
     ]
    }
   ],
   "source": [
    "# Kerjakan nomor 1 di sini\n",
    "a = int(input(\"Masukan batas atas bilangan :\"))\n",
    "b = int(input(\"Masukan batas bawah bilangan :\"))\n",
    "\n",
    "if b > a:\n",
    "    a, b = b, a\n",
    "\n",
    "jml_bil_ganjil = 0\n",
    "jml_bil_genap = 0\n",
    "\n",
    "for i in range (b,a+1,2):\n",
    "    jml_bil_genap = jml_bil_genap + i\n",
    "\n",
    "for j in range (b+1,a+1,2):\n",
    "    jml_bil_ganjil = jml_bil_ganjil + j\n",
    "\n",
    "if b % 2 == 0:\n",
    "    print(\"Hasil dari total penjumlahan bilangan ganjil dengan batas bawah\", b, \"dan batas atas\", a,\"adalah\", jml_bil_ganjil)\n",
    "    print(\"Hasil dari total penjumlahan bilangan genap dengan batas bawah\", b, \"dan batas atas\", a,\"adalah\", jml_bil_genap)\n",
    "else:\n",
    "    print(\"Hasil dari total penjumlahan bilangan ganjil dengan batas bawah\", b, \"dan batas atas\", a,\"adalah\", jml_bil_genap)\n",
    "    print(\"Hasil dari total penjumlahan bilangan genap dengan batas bawah\", b, \"dan batas atas\", a,\"adalah\", jml_bil_ganjil)"
   ]
  },
  {
   "attachments": {},
   "cell_type": "markdown",
   "metadata": {},
   "source": [
    "2. Buatlah sebuah list yang berisi daftar makanan khas daerah (minimal 10 makanan termasuk makanan khas Solo). Kemudian buat program pencarian menggunakan pengulangan. Apabila nama makanan yang user inputkan sudah sesuai dengan isi list maka program akan berhenti dan menampilkan output \"(makanan yang diinput user) adalah makanan khas daerah\"."
   ]
  },
  {
   "cell_type": "code",
   "execution_count": 21,
   "metadata": {},
   "outputs": [
    {
     "name": "stdout",
     "output_type": "stream",
     "text": [
      "Tengkleng\n",
      "Timlo\n",
      "Soto Mie\n",
      "Soto Bogor\n",
      "Ketoprak\n",
      "Batagor merupakan makanan khas daerah Indonesia.\n"
     ]
    }
   ],
   "source": [
    "# Kerjakan nomor 2 di sini\n",
    "list_makanan = [\"Tengkleng\",\n",
    "           \"Timlo\",\n",
    "           \"Soto Mie\",\n",
    "           \"Soto Bogor\",\n",
    "           \"Ketoprak\",\n",
    "           \"Batagor\",\n",
    "           \"Gudeg\",\n",
    "           \"Toge Goreng\",\n",
    "           \"Pempek\",\n",
    "           \"Kerak Telor\",\n",
    "           \"Rendang\",\n",
    "           \"Coto Makassar\",\n",
    "           \"Rawon\",\n",
    "           \"Asinan\",\n",
    "           \"Ayam Taliwang\"]\n",
    "makanan_fav = input(\"Tuliskan makanan favorit anda : \")\n",
    "\n",
    "for i in list_makanan:\n",
    "    if i == makanan_fav:\n",
    "        break\n",
    "    print(i)\n",
    "\n",
    "print(makanan_fav,\"merupakan makanan khas daerah Indonesia.\")"
   ]
  },
  {
   "attachments": {},
   "cell_type": "markdown",
   "metadata": {},
   "source": [
    "3. Buatlah program untuk menghitung rata-rata 7 bilangan dimana bilangan-bilangan tersebut didapat melalui input user!"
   ]
  },
  {
   "cell_type": "code",
   "execution_count": 25,
   "metadata": {},
   "outputs": [
    {
     "name": "stdout",
     "output_type": "stream",
     "text": [
      "Rata-rata dari tujuh bilangan 2 , 4 , 6 , 8 , 10 , 12 , dan 14 adalah 8.0\n"
     ]
    }
   ],
   "source": [
    "# Kerjakan nomor 3 di sini\n",
    "bil = []\n",
    "\n",
    "while len(bil) <= 6:\n",
    "    tambah = int(input(\"Masukan bilangan : \"))\n",
    "\n",
    "    bil.append(tambah)\n",
    "\n",
    "hasil = 0\n",
    "for i in range(0,len(bil)):\n",
    "    hasil = hasil + bil[i]\n",
    "    rata_rata = hasil/7\n",
    "\n",
    "print(\"Rata-rata dari tujuh bilangan\", bil[0],\",\",bil[1],\",\",bil[2],\",\",bil[3],\",\",bil[4],\",\",bil[5],\", dan\",bil[6],\"adalah\",rata_rata)"
   ]
  }
 ],
 "metadata": {
  "language_info": {
   "name": "python"
  },
  "orig_nbformat": 4
 },
 "nbformat": 4,
 "nbformat_minor": 2
}
